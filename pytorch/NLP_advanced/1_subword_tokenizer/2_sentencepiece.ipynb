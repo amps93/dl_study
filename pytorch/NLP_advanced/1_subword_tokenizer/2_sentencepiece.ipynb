{
 "cells": [
  {
   "cell_type": "code",
   "execution_count": null,
   "id": "765d5a4b-6892-4846-99c6-7d30574d675d",
   "metadata": {},
   "outputs": [],
   "source": [
    "import sentencepiece as spm\n",
    "import pandas as pd\n",
    "import urllib.request\n",
    "import csv"
   ]
  }
 ],
 "metadata": {
  "kernelspec": {
   "display_name": "dl-study",
   "language": "python",
   "name": "dl-study"
  },
  "language_info": {
   "codemirror_mode": {
    "name": "ipython",
    "version": 3
   },
   "file_extension": ".py",
   "mimetype": "text/x-python",
   "name": "python",
   "nbconvert_exporter": "python",
   "pygments_lexer": "ipython3",
   "version": "3.9.13"
  }
 },
 "nbformat": 4,
 "nbformat_minor": 5
}
