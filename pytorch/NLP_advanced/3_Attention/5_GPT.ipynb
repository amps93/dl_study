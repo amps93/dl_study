{
 "cells": [
  {
   "cell_type": "code",
   "execution_count": 1,
   "id": "123690c3-11b2-42ec-80d9-319658204652",
   "metadata": {},
   "outputs": [],
   "source": [
    "import numpy as np\n",
    "import torch\n",
    "import random\n",
    "import time\n",
    "from transformers import AutoTokenizer\n",
    "from transformers import GPT2LMHeadModel"
   ]
  },
  {
   "cell_type": "code",
   "execution_count": 2,
   "id": "d2a060de-3dc6-4bb0-82ad-279eecfc200e",
   "metadata": {},
   "outputs": [
    {
     "data": {
      "application/vnd.jupyter.widget-view+json": {
       "model_id": "d4015a15081f4fcba202b758cada9031",
       "version_major": 2,
       "version_minor": 0
      },
      "text/plain": [
       "config.json:   0%|          | 0.00/1.00k [00:00<?, ?B/s]"
      ]
     },
     "metadata": {},
     "output_type": "display_data"
    },
    {
     "name": "stderr",
     "output_type": "stream",
     "text": [
      "C:\\Users\\amps\\anaconda3\\envs\\dl_study\\lib\\site-packages\\huggingface_hub\\file_download.py:159: UserWarning: `huggingface_hub` cache-system uses symlinks by default to efficiently store duplicated files but your machine does not support them in C:\\Users\\amps\\.cache\\huggingface\\hub\\models--skt--kogpt2-base-v2. Caching files will still work but in a degraded version that might require more space on your disk. This warning can be disabled by setting the `HF_HUB_DISABLE_SYMLINKS_WARNING` environment variable. For more details, see https://huggingface.co/docs/huggingface_hub/how-to-cache#limitations.\n",
      "To support symlinks on Windows, you either need to activate Developer Mode or to run Python as an administrator. In order to see activate developer mode, see this article: https://docs.microsoft.com/en-us/windows/apps/get-started/enable-your-device-for-development\n",
      "  warnings.warn(message)\n"
     ]
    },
    {
     "data": {
      "application/vnd.jupyter.widget-view+json": {
       "model_id": "2ac9f97ae526405a94f3ba4938c2fd81",
       "version_major": 2,
       "version_minor": 0
      },
      "text/plain": [
       "pytorch_model.bin:   0%|          | 0.00/513M [00:00<?, ?B/s]"
      ]
     },
     "metadata": {},
     "output_type": "display_data"
    },
    {
     "data": {
      "application/vnd.jupyter.widget-view+json": {
       "model_id": "722ae9ace98c4ae3baa63e1d39bc2cbf",
       "version_major": 2,
       "version_minor": 0
      },
      "text/plain": [
       "tokenizer.json:   0%|          | 0.00/2.83M [00:00<?, ?B/s]"
      ]
     },
     "metadata": {},
     "output_type": "display_data"
    }
   ],
   "source": [
    "model = GPT2LMHeadModel.from_pretrained('skt/kogpt2-base-v2')\n",
    "tokenizer = AutoTokenizer.from_pretrained('skt/kogpt2-base-v2')"
   ]
  },
  {
   "cell_type": "code",
   "execution_count": 3,
   "id": "94b63f9a-66d9-4cc6-a9f2-5cab4b9d945b",
   "metadata": {},
   "outputs": [
    {
     "name": "stdout",
     "output_type": "stream",
     "text": [
      "tensor([[33245, 10114, 12748, 11357]])\n"
     ]
    }
   ],
   "source": [
    "sent = '근육이 커지기 위해서는'\n",
    "\n",
    "input_ids = tokenizer.encode(sent, return_tensors='pt')\n",
    "print(input_ids)"
   ]
  },
  {
   "cell_type": "code",
   "execution_count": null,
   "id": "5138259d-def2-481f-aca5-4b7b480d4cce",
   "metadata": {},
   "outputs": [
    {
     "name": "stdout",
     "output_type": "stream",
     "text": [
      "[33245, 10114, 12748, 11357, 23879, 39306, 9684, 7884, 10211, 15177, 26421, 387, 17339, 7889, 9908, 15768, 6903, 15386, 8146, 12923, 9228, 18651, 42600, 9564, 17764, 9033, 9199, 14441, 7335, 8704, 12557, 32030, 9510, 18595, 9025, 10571, 25741, 10599, 13229, 9508, 7965, 8425, 33102, 9122, 21240, 9801, 32106, 13579, 12442, 13235, 19430, 8022, 12972, 9566, 11178, 9554, 24873, 7198, 9391, 12486, 8711, 9346, 7071, 36736, 9693, 12006, 9038, 10279, 36122, 9960, 8405, 10826, 18988, 25998, 9292, 7671, 9465, 7489, 9277, 10137, 9677, 9248, 9912, 12834, 11488, 13417, 7407, 8428, 8137, 9430, 14222, 11356, 10061, 9885, 19265, 9377, 20305, 7991, 9178, 9648, 9133, 10021, 10138, 30315, 21833, 9362, 9301, 9685, 11584, 9447, 42129, 10124, 7532, 17932, 47123, 37544, 9355, 15632, 9124, 10536, 13530, 12204, 9184, 36152, 9673, 9788, 9029, 11764]\n"
     ]
    }
   ],
   "source": [
    "output = model.generate(input_ids,\n",
    "                        max_length=128,\n",
    "                        repetition_penalty=2.0,\n",
    "                        use_cache=True)\n",
    "output_ids = output.numpy().tolist()[0]\n",
    "print(output_ids)"
   ]
  },
  {
   "cell_type": "code",
   "execution_count": 5,
   "id": "b3adbffd-6225-415b-8664-915d23fc0be3",
   "metadata": {},
   "outputs": [
    {
     "data": {
      "text/plain": [
       "'근육이 커지기 위해서는 무엇보다 규칙적인 생활습관이 중요하다.\\n특히, 아침식사는 단백질과 비타민이 풍부한 과일과 채소를 많이 섭취하는 것이 좋다.\\n또한 하루 30분 이상 충분한 수면을 취하는 것도 도움이 된다.\\n아침 식사를 거르지 않고 규칙적으로 운동을 하면 혈액순환에 도움을 줄 뿐만 아니라 신진대사를 촉진해 체내 노폐물을 배출하고 혈압을 낮춰준다.\\n운동은 하루에 10분 정도만 하는 게 좋으며 운동 후에는 반드시 스트레칭을 통해 근육량을 늘리고 유연성을 높여야 한다.\\n운동 후 바로 잠자리에 드는 것은 피해야 하며 특히 아침에 일어나면 몸이 피곤해지기 때문에 무리하게 움직이면 오히려 역효과가 날 수도 있다.\\n운동을'"
      ]
     },
     "execution_count": 5,
     "metadata": {},
     "output_type": "execute_result"
    }
   ],
   "source": [
    "tokenizer.decode(output_ids)"
   ]
  },
  {
   "cell_type": "markdown",
   "id": "6cd4f44f-1a58-4e80-af8f-9d8a23687f18",
   "metadata": {},
   "source": [
    "# 2. Numpy로 Top 5 뽑기\n",
    "\n",
    "위의 실습에서 확인한 바와 같이 '근육이 커지기 위해서는' 이라는 입력을 넣었을 때 GPT는 다음 단어로 '무엇보다' 라는 단어를 예측했었는데요.\\\n",
    "실제로는 수많은 후보의 다음 단어들이 있었지만, 그 중 가장 확률이 높은 단어. 즉, Top 1의 단어인 '무엇보다'를 예측한 것입니다.\\\n",
    "그렇다면 다음 단어로 또 어떤 후보들이 있었는지 Top 5의 단어들을 뽑아봅시다"
   ]
  },
  {
   "cell_type": "code",
   "execution_count": 6,
   "id": "59e6ee4a-d448-44b2-91c4-47b330a09f40",
   "metadata": {},
   "outputs": [
    {
     "name": "stdout",
     "output_type": "stream",
     "text": [
      "['무엇보다', '우선', '반드시', '피부', '무엇보다도']\n"
     ]
    }
   ],
   "source": [
    "output = model(input_ids)\n",
    "\n",
    "# logits.shape == torch.Size([51200]). 즉, 총 단어 집합 크기만큼의 차원을 가지는 벡터.\n",
    "logits = output.logits[0, -1]\n",
    "\n",
    "top5 = torch.topk(logits, k=5)\n",
    "tokens = [tokenizer.decode(token_id) for token_id in top5.indices.tolist()]\n",
    "print(tokens)"
   ]
  },
  {
   "cell_type": "markdown",
   "id": "49a9378f-74bb-4b4b-892e-4b8c6a81de7a",
   "metadata": {},
   "source": [
    "# 3. Numpy Top 5로 문장 생성하기"
   ]
  },
  {
   "cell_type": "code",
   "execution_count": 7,
   "id": "6917976c-9154-4c2c-90c9-544c2151573a",
   "metadata": {},
   "outputs": [
    {
     "data": {
      "text/plain": [
       "'근육이 커지기 위해서는 규칙적인 식생활 습도를 높여주는 것을 권하고있다.\\n과체지방을 줄이기 위해서는 단백질 보충도 매우 중요시된다.\\n아연은 혈전을 용해시키고 세포를 응고하는데 큰 관여한다..^ )\\n우려대로 \\\\#미세조류를'"
      ]
     },
     "execution_count": 7,
     "metadata": {},
     "output_type": "execute_result"
    }
   ],
   "source": [
    "sent = '근육이 커지기 위해서는'\n",
    "input_ids = tokenizer.encode(sent, return_tensors='pt')\n",
    "\n",
    "while len(input_ids[0]) < 50:\n",
    "    with torch.no_grad():\n",
    "        output = model(input_ids)\n",
    "    logits = output.logits[0, -1]\n",
    "    top5 = torch.topk(logits, k=30)\n",
    "    token_id = random.choice(top5.indices.tolist())\n",
    "    input_ids = torch.cat([input_ids, torch.tensor([[token_id]])], dim=1)\n",
    "\n",
    "tokenizer.decode(input_ids[0])"
   ]
  },
  {
   "cell_type": "code",
   "execution_count": null,
   "id": "9589bff2-d3aa-4ba9-b045-ec63c5864681",
   "metadata": {},
   "outputs": [],
   "source": []
  }
 ],
 "metadata": {
  "kernelspec": {
   "display_name": "dl_study",
   "language": "python",
   "name": "dl_study"
  },
  "language_info": {
   "codemirror_mode": {
    "name": "ipython",
    "version": 3
   },
   "file_extension": ".py",
   "mimetype": "text/x-python",
   "name": "python",
   "nbconvert_exporter": "python",
   "pygments_lexer": "ipython3",
   "version": "3.8.20"
  }
 },
 "nbformat": 4,
 "nbformat_minor": 5
}
